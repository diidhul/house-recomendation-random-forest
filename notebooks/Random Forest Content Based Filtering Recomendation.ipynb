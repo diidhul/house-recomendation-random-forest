{
 "cells": [
  {
   "cell_type": "markdown",
   "metadata": {},
   "source": [
    "Sistem rekomendasi content based filtering dengan model klasifikasi random forest\n",
    "- Teknik label encoding, \n",
    "- evaluasi Confussion matrix. \n",
    "\n",
    "Inputnya: \n",
    "- Usia\n",
    "- Status Pernikahan\n",
    "- Jenis Kelamin\n",
    "- Jumlah Anak\n",
    "- Jenis Pekerjaan\n",
    "- Pendapatan/Bulan\n",
    "- Fasilitas Yang Diinginkan\n",
    "- Preferensi lingkungan\n",
    "\n",
    "Output: \n",
    "- Nama Perumahan\n",
    "- Jenis Rumah\n",
    "- Tipe Rumah"
   ]
  },
  {
   "cell_type": "code",
   "execution_count": 37,
   "metadata": {},
   "outputs": [],
   "source": [
    "import pandas as pd"
   ]
  },
  {
   "cell_type": "markdown",
   "metadata": {},
   "source": [
    "# Import Dataset"
   ]
  },
  {
   "cell_type": "code",
   "execution_count": 38,
   "metadata": {},
   "outputs": [],
   "source": [
    "# Import the data\n",
    "df = pd.read_csv(\"../data/raw/Dataset_Konsumen.csv\")"
   ]
  },
  {
   "cell_type": "markdown",
   "metadata": {},
   "source": [
    "# Data Preprocessing"
   ]
  },
  {
   "cell_type": "code",
   "execution_count": 39,
   "metadata": {},
   "outputs": [
    {
     "data": {
      "text/html": [
       "<div>\n",
       "<style scoped>\n",
       "    .dataframe tbody tr th:only-of-type {\n",
       "        vertical-align: middle;\n",
       "    }\n",
       "\n",
       "    .dataframe tbody tr th {\n",
       "        vertical-align: top;\n",
       "    }\n",
       "\n",
       "    .dataframe thead th {\n",
       "        text-align: right;\n",
       "    }\n",
       "</style>\n",
       "<table border=\"1\" class=\"dataframe\">\n",
       "  <thead>\n",
       "    <tr style=\"text-align: right;\">\n",
       "      <th></th>\n",
       "      <th>Timestamp</th>\n",
       "      <th>Nama Samaran</th>\n",
       "      <th>Usia</th>\n",
       "      <th>Jenis Kelamin</th>\n",
       "      <th>Status Pernikahan</th>\n",
       "      <th>Jumlah Anak</th>\n",
       "      <th>Jenis Pekerjaan</th>\n",
       "      <th>Pendapatan/Bulan</th>\n",
       "      <th>Nama Perumahan</th>\n",
       "      <th>Jenis Rumah</th>\n",
       "      <th>Tipe Rumah</th>\n",
       "      <th>Apakah ada fasilitas yang membuat Bapak/Ibu tertarik dengan rumah ini?</th>\n",
       "      <th>Apakah Bapak/Ibu memiliki preferensi tertentu terkait dengan lingkungan sekitar rumah?</th>\n",
       "    </tr>\n",
       "  </thead>\n",
       "  <tbody>\n",
       "    <tr>\n",
       "      <th>0</th>\n",
       "      <td>4/18/2024 2:13:19</td>\n",
       "      <td>Ihsan Riandi</td>\n",
       "      <td>32</td>\n",
       "      <td>Laki-laki</td>\n",
       "      <td>Lajang</td>\n",
       "      <td>0</td>\n",
       "      <td>Karyawan</td>\n",
       "      <td>Rp. 2.000.000 - Rp. 5.000.000</td>\n",
       "      <td>Bukit Cibadak Asri</td>\n",
       "      <td>Subsidi</td>\n",
       "      <td>30/60</td>\n",
       "      <td>CCTV 24 Jam &amp; Security, One Gate System, Jalan...</td>\n",
       "      <td>View Pegunungan, Suasana Sejuk Dan Asri, Dekat...</td>\n",
       "    </tr>\n",
       "    <tr>\n",
       "      <th>1</th>\n",
       "      <td>4/18/2024 2:14:06</td>\n",
       "      <td>Boayy</td>\n",
       "      <td>36</td>\n",
       "      <td>Laki-laki</td>\n",
       "      <td>Sudah Menikah</td>\n",
       "      <td>2</td>\n",
       "      <td>Wiraswasta</td>\n",
       "      <td>Rp. 5.000.000 - Rp. 10.000.000</td>\n",
       "      <td>Bukit Cibadak Asri</td>\n",
       "      <td>Subsidi</td>\n",
       "      <td>30/60</td>\n",
       "      <td>CCTV 24 Jam &amp; Security</td>\n",
       "      <td>View Pegunungan</td>\n",
       "    </tr>\n",
       "    <tr>\n",
       "      <th>2</th>\n",
       "      <td>4/18/2024 2:22:13</td>\n",
       "      <td>Selvi</td>\n",
       "      <td>28</td>\n",
       "      <td>Perempuan</td>\n",
       "      <td>Sudah Menikah</td>\n",
       "      <td>1</td>\n",
       "      <td>Karyawan</td>\n",
       "      <td>Rp. 2.000.000 - Rp. 5.000.000</td>\n",
       "      <td>Goalpara Hiills</td>\n",
       "      <td>Subsidi</td>\n",
       "      <td>30/60</td>\n",
       "      <td>CCTV 24 Jam &amp; Security, One Gate System, Jalan...</td>\n",
       "      <td>View Pegunungan, Suasana Sejuk Dan Asri, Dekat...</td>\n",
       "    </tr>\n",
       "    <tr>\n",
       "      <th>3</th>\n",
       "      <td>4/18/2024 3:01:14</td>\n",
       "      <td>Chenko</td>\n",
       "      <td>33</td>\n",
       "      <td>Laki-laki</td>\n",
       "      <td>Sudah Menikah</td>\n",
       "      <td>2</td>\n",
       "      <td>Karyawan</td>\n",
       "      <td>Rp. 5.000.000 - Rp. 10.000.000</td>\n",
       "      <td>Setiabudi Estate</td>\n",
       "      <td>Komersil</td>\n",
       "      <td>36/72</td>\n",
       "      <td>CCTV 24 Jam &amp; Security, One Gate System, Jalan...</td>\n",
       "      <td>View Pegunungan, Suasana Sejuk Dan Asri, Dekat...</td>\n",
       "    </tr>\n",
       "    <tr>\n",
       "      <th>4</th>\n",
       "      <td>4/18/2024 10:20:54</td>\n",
       "      <td>Nila</td>\n",
       "      <td>29</td>\n",
       "      <td>Perempuan</td>\n",
       "      <td>Lajang</td>\n",
       "      <td>0</td>\n",
       "      <td>Karyawan</td>\n",
       "      <td>Rp. 5.000.000 - Rp. 10.000.000</td>\n",
       "      <td>Qianna Residence 2</td>\n",
       "      <td>Komersil</td>\n",
       "      <td>30/60</td>\n",
       "      <td>CCTV 24 Jam &amp; Security, Jalan Utama Yang Lebar...</td>\n",
       "      <td>Suasana Sejuk Dan Asri, Dekat Dengan Pusat Kot...</td>\n",
       "    </tr>\n",
       "  </tbody>\n",
       "</table>\n",
       "</div>"
      ],
      "text/plain": [
       "            Timestamp  Nama Samaran  Usia Jenis Kelamin Status Pernikahan  \\\n",
       "0   4/18/2024 2:13:19  Ihsan Riandi    32     Laki-laki            Lajang   \n",
       "1   4/18/2024 2:14:06         Boayy    36     Laki-laki     Sudah Menikah   \n",
       "2   4/18/2024 2:22:13         Selvi    28     Perempuan     Sudah Menikah   \n",
       "3   4/18/2024 3:01:14        Chenko    33     Laki-laki     Sudah Menikah   \n",
       "4  4/18/2024 10:20:54         Nila     29     Perempuan            Lajang   \n",
       "\n",
       "   Jumlah Anak Jenis Pekerjaan                Pendapatan/Bulan  \\\n",
       "0            0        Karyawan   Rp. 2.000.000 - Rp. 5.000.000   \n",
       "1            2      Wiraswasta  Rp. 5.000.000 - Rp. 10.000.000   \n",
       "2            1        Karyawan   Rp. 2.000.000 - Rp. 5.000.000   \n",
       "3            2        Karyawan  Rp. 5.000.000 - Rp. 10.000.000   \n",
       "4            0        Karyawan  Rp. 5.000.000 - Rp. 10.000.000   \n",
       "\n",
       "       Nama Perumahan Jenis Rumah Tipe Rumah  \\\n",
       "0  Bukit Cibadak Asri     Subsidi      30/60   \n",
       "1  Bukit Cibadak Asri     Subsidi      30/60   \n",
       "2     Goalpara Hiills     Subsidi      30/60   \n",
       "3    Setiabudi Estate    Komersil      36/72   \n",
       "4  Qianna Residence 2    Komersil      30/60   \n",
       "\n",
       "  Apakah ada fasilitas yang membuat Bapak/Ibu tertarik dengan rumah ini?  \\\n",
       "0  CCTV 24 Jam & Security, One Gate System, Jalan...                       \n",
       "1                             CCTV 24 Jam & Security                       \n",
       "2  CCTV 24 Jam & Security, One Gate System, Jalan...                       \n",
       "3  CCTV 24 Jam & Security, One Gate System, Jalan...                       \n",
       "4  CCTV 24 Jam & Security, Jalan Utama Yang Lebar...                       \n",
       "\n",
       "  Apakah Bapak/Ibu memiliki preferensi tertentu terkait dengan lingkungan sekitar rumah?  \n",
       "0  View Pegunungan, Suasana Sejuk Dan Asri, Dekat...                                      \n",
       "1                                    View Pegunungan                                      \n",
       "2  View Pegunungan, Suasana Sejuk Dan Asri, Dekat...                                      \n",
       "3  View Pegunungan, Suasana Sejuk Dan Asri, Dekat...                                      \n",
       "4  Suasana Sejuk Dan Asri, Dekat Dengan Pusat Kot...                                      "
      ]
     },
     "execution_count": 39,
     "metadata": {},
     "output_type": "execute_result"
    }
   ],
   "source": [
    "df.head()"
   ]
  },
  {
   "cell_type": "code",
   "execution_count": 40,
   "metadata": {},
   "outputs": [
    {
     "data": {
      "text/plain": [
       "(272, 13)"
      ]
     },
     "execution_count": 40,
     "metadata": {},
     "output_type": "execute_result"
    }
   ],
   "source": [
    "df.shape"
   ]
  },
  {
   "cell_type": "code",
   "execution_count": 41,
   "metadata": {},
   "outputs": [
    {
     "data": {
      "text/plain": [
       "Index(['Timestamp', 'Nama Samaran', 'Usia', 'Jenis Kelamin',\n",
       "       'Status Pernikahan', 'Jumlah Anak', 'Jenis Pekerjaan',\n",
       "       'Pendapatan/Bulan', 'Nama Perumahan', 'Jenis Rumah', 'Tipe Rumah',\n",
       "       'Apakah ada fasilitas yang membuat Bapak/Ibu tertarik dengan rumah ini?',\n",
       "       'Apakah Bapak/Ibu memiliki preferensi tertentu terkait dengan lingkungan sekitar rumah?'],\n",
       "      dtype='object')"
      ]
     },
     "execution_count": 41,
     "metadata": {},
     "output_type": "execute_result"
    }
   ],
   "source": [
    "df.columns"
   ]
  },
  {
   "cell_type": "code",
   "execution_count": 42,
   "metadata": {},
   "outputs": [],
   "source": [
    "# Rename Column Name\n",
    "df = df.rename(columns={'Apakah ada fasilitas yang membuat Bapak/Ibu tertarik dengan rumah ini?' : 'Fasilitas Yang Diinginkan',\n",
    "                   'Apakah Bapak/Ibu memiliki preferensi tertentu terkait dengan lingkungan sekitar rumah?': 'Preferensi lingkungan'})"
   ]
  },
  {
   "cell_type": "code",
   "execution_count": 43,
   "metadata": {},
   "outputs": [],
   "source": [
    "# Drop Kolom ga diperlukan\n",
    "df.drop('Nama Samaran', axis=1, inplace=True)"
   ]
  },
  {
   "cell_type": "code",
   "execution_count": 44,
   "metadata": {},
   "outputs": [
    {
     "name": "stdout",
     "output_type": "stream",
     "text": [
      "Timestamp : ['4/18/2024 2:13:19' '4/18/2024 2:14:06' '4/18/2024 2:22:13'\n",
      " '4/18/2024 3:01:14' '4/18/2024 10:20:54' '4/18/2024 10:22:49'\n",
      " '4/18/2024 10:23:37' '4/18/2024 10:24:22' '4/18/2024 10:25:06'\n",
      " '4/18/2024 10:27:35' '4/18/2024 10:28:47' '4/18/2024 10:29:45'\n",
      " '4/18/2024 10:31:05' '4/18/2024 10:31:55' '4/18/2024 12:27:11'\n",
      " '4/18/2024 12:31:29' '4/18/2024 12:35:45' '4/18/2024 12:38:39'\n",
      " '4/18/2024 14:00:59' '4/18/2024 14:02:59' '4/18/2024 14:04:09'\n",
      " '4/18/2024 14:05:31' '4/18/2024 14:06:32' '4/18/2024 14:07:35'\n",
      " '4/18/2024 14:22:11' '4/18/2024 14:23:50' '4/18/2024 14:24:39'\n",
      " '4/18/2024 14:25:27' '4/18/2024 14:28:49' '4/18/2024 14:33:14'\n",
      " '4/18/2024 14:34:04' '4/18/2024 14:35:10' '4/18/2024 14:37:40'\n",
      " '4/18/2024 14:38:28' '4/18/2024 14:39:33' '4/18/2024 14:41:34'\n",
      " '4/18/2024 14:44:32' '4/18/2024 14:57:02' '4/18/2024 14:59:47'\n",
      " '4/18/2024 15:01:26' '4/18/2024 15:02:13' '4/18/2024 15:02:54'\n",
      " '4/18/2024 15:05:27' '4/18/2024 15:10:03' '4/18/2024 15:10:50'\n",
      " '4/18/2024 15:12:42' '4/18/2024 15:13:49' '4/18/2024 15:14:52'\n",
      " '4/19/2024 13:50:19' '4/19/2024 13:51:31' '4/19/2024 13:52:29'\n",
      " '4/19/2024 13:53:46' '4/19/2024 13:55:09' '4/19/2024 13:55:59'\n",
      " '4/19/2024 13:58:18' '4/19/2024 13:59:12' '4/19/2024 14:00:12'\n",
      " '4/19/2024 14:01:10' '4/19/2024 15:07:00' '4/19/2024 15:14:36'\n",
      " '4/19/2024 15:15:47' '4/19/2024 15:16:50' '4/19/2024 15:19:54'\n",
      " '4/19/2024 15:21:13' '4/19/2024 15:25:54' '4/19/2024 15:26:55'\n",
      " '4/19/2024 15:33:57' '4/19/2024 15:34:42' '4/19/2024 15:35:33'\n",
      " '4/19/2024 15:36:12' '4/19/2024 15:38:49' '4/19/2024 15:39:23'\n",
      " '4/19/2024 15:40:04' '4/19/2024 15:40:48' '4/19/2024 15:41:35'\n",
      " '4/19/2024 15:44:45' '4/19/2024 15:45:23' '4/19/2024 15:46:34'\n",
      " '4/19/2024 15:53:21' '4/19/2024 15:54:27' '4/19/2024 15:55:14'\n",
      " '4/19/2024 15:56:06' '4/20/2024 9:49:49' '4/20/2024 9:52:52'\n",
      " '4/20/2024 9:54:06' '4/20/2024 9:55:36' '4/20/2024 9:56:53'\n",
      " '4/20/2024 9:58:27' '4/20/2024 10:10:50' '4/20/2024 10:19:05'\n",
      " '4/20/2024 10:20:40' '4/20/2024 10:22:10' '4/20/2024 10:23:05'\n",
      " '4/20/2024 10:24:18' '4/20/2024 10:50:52' '4/20/2024 10:53:39'\n",
      " '4/20/2024 10:57:35' '4/20/2024 10:58:31' '4/20/2024 11:00:26'\n",
      " '4/20/2024 11:01:09' '4/20/2024 11:01:59' '4/20/2024 11:31:31'\n",
      " '4/20/2024 11:34:45' '4/20/2024 11:35:37' '4/20/2024 11:36:28'\n",
      " '4/20/2024 11:43:27' '4/20/2024 11:52:20' '4/20/2024 11:55:26'\n",
      " '4/20/2024 11:56:50' '4/20/2024 11:58:46' '4/20/2024 11:59:57'\n",
      " '4/20/2024 12:00:46' '4/20/2024 12:02:19' '4/20/2024 12:26:21'\n",
      " '4/20/2024 12:27:47' '4/20/2024 12:28:55' '4/20/2024 12:30:53'\n",
      " '4/20/2024 12:32:23' '4/20/2024 12:34:12' '4/20/2024 12:35:34'\n",
      " '4/20/2024 12:37:10' '4/20/2024 12:38:12' '4/20/2024 12:39:10'\n",
      " '4/20/2024 12:40:01' '4/20/2024 12:40:58' '4/20/2024 12:41:31'\n",
      " '4/20/2024 12:42:16' '4/20/2024 12:42:52' '4/20/2024 12:43:38'\n",
      " '4/20/2024 12:44:22' '4/20/2024 12:45:24' '4/20/2024 12:47:31'\n",
      " '4/20/2024 12:48:44' '4/20/2024 12:50:35' '4/20/2024 23:03:21'\n",
      " '4/21/2024 2:19:06' '4/21/2024 2:22:06' '4/21/2024 2:23:21'\n",
      " '4/21/2024 2:24:29' '4/21/2024 2:25:35' '4/21/2024 2:27:06'\n",
      " '4/21/2024 2:28:07' '4/21/2024 2:29:27' '4/21/2024 2:30:31'\n",
      " '4/21/2024 2:31:26' '4/21/2024 2:32:22' '4/21/2024 2:33:18'\n",
      " '4/21/2024 2:34:12' '4/21/2024 2:35:03' '4/21/2024 2:36:17'\n",
      " '4/21/2024 2:37:19' '4/21/2024 2:38:15' '4/21/2024 2:39:13'\n",
      " '4/21/2024 2:40:14' '4/21/2024 2:41:06' '4/21/2024 2:42:03'\n",
      " '4/21/2024 2:42:56' '4/21/2024 2:43:52' '4/21/2024 2:44:39'\n",
      " '4/21/2024 2:45:38' '4/21/2024 12:58:58' '4/21/2024 13:01:10'\n",
      " '4/21/2024 13:02:19' '4/21/2024 13:03:22' '4/21/2024 13:04:17'\n",
      " '4/21/2024 13:05:02' '4/21/2024 13:05:45' '4/21/2024 13:06:42'\n",
      " '4/21/2024 13:07:31' '4/21/2024 13:08:29' '4/21/2024 13:10:26'\n",
      " '4/21/2024 13:11:09' '4/21/2024 13:12:11' '4/21/2024 13:12:50'\n",
      " '4/21/2024 13:13:24' '4/21/2024 13:14:33' '4/21/2024 13:15:33'\n",
      " '4/21/2024 13:16:06' '4/21/2024 13:17:53' '4/21/2024 13:18:56'\n",
      " '4/21/2024 13:19:47' '4/21/2024 13:20:41' '4/21/2024 13:21:30'\n",
      " '4/21/2024 13:22:07' '4/21/2024 13:22:49' '4/21/2024 13:23:25'\n",
      " '4/21/2024 13:24:04' '4/21/2024 13:24:39' '4/21/2024 13:25:20'\n",
      " '4/21/2024 13:26:00' '4/21/2024 13:26:34' '4/21/2024 13:27:48'\n",
      " '4/21/2024 13:28:18' '4/21/2024 13:29:00' '4/21/2024 13:29:47'\n",
      " '4/21/2024 14:34:59' '4/21/2024 14:35:51' '4/21/2024 14:36:56'\n",
      " '4/21/2024 14:37:52' '4/21/2024 14:38:34' '4/21/2024 14:39:15'\n",
      " '4/21/2024 14:39:57' '4/21/2024 14:41:01' '4/21/2024 14:42:01'\n",
      " '4/21/2024 14:42:33' '4/21/2024 14:43:12' '4/21/2024 14:43:56'\n",
      " '4/21/2024 14:44:55' '4/21/2024 14:45:49' '4/21/2024 14:46:25'\n",
      " '4/21/2024 14:47:02' '4/21/2024 14:47:40' '4/21/2024 14:48:30'\n",
      " '4/21/2024 14:49:14' '4/21/2024 14:49:56' '4/21/2024 14:50:32'\n",
      " '4/21/2024 14:51:14' '4/21/2024 14:51:53' '4/21/2024 14:52:55'\n",
      " '4/21/2024 14:53:51' '4/21/2024 14:54:23' '4/21/2024 14:54:53'\n",
      " '4/21/2024 14:56:14' '4/21/2024 14:57:52' '4/21/2024 15:03:42'\n",
      " '4/21/2024 15:06:27' '4/21/2024 15:07:58' '4/21/2024 15:08:53'\n",
      " '4/21/2024 15:09:38' '4/21/2024 15:10:47' '4/21/2024 15:11:41'\n",
      " '4/21/2024 15:12:23' '4/21/2024 15:13:00' '4/21/2024 15:13:35'\n",
      " '4/21/2024 15:15:01' '4/21/2024 15:15:47' '4/21/2024 15:16:46'\n",
      " '4/21/2024 15:17:35' '4/21/2024 15:18:28' '4/21/2024 15:19:20'\n",
      " '4/21/2024 15:22:20' '4/21/2024 15:26:55' '4/21/2024 15:27:36'\n",
      " '4/21/2024 15:28:12' '4/21/2024 15:28:41' '4/21/2024 15:29:17'\n",
      " '4/21/2024 15:29:51' '4/22/2024 10:12:37' '4/22/2024 10:13:39'\n",
      " '4/22/2024 10:14:38' '4/22/2024 10:20:27' '4/22/2024 10:21:21'\n",
      " '4/22/2024 10:22:04' '4/22/2024 10:23:04' '4/22/2024 10:23:59'\n",
      " '4/22/2024 10:25:00' '4/22/2024 10:26:17' '4/22/2024 10:27:18'\n",
      " '4/22/2024 10:28:07' '4/22/2024 10:29:09' '4/22/2024 10:29:59'\n",
      " '4/22/2024 10:30:51' '4/22/2024 10:31:37' '4/22/2024 10:32:43'\n",
      " '4/22/2024 10:33:35' '4/23/2024 12:05:29' '4/23/2024 12:07:09'\n",
      " '4/23/2024 12:08:02' '4/23/2024 12:08:52' '4/23/2024 12:09:49'\n",
      " '4/23/2024 12:10:42' '4/23/2024 12:11:36']\n",
      "Usia : [32 36 28 33 29 30 35 40 31 34 39 38 37]\n",
      "Jenis Kelamin : ['Laki-laki' 'Perempuan']\n",
      "Status Pernikahan : ['Lajang' 'Sudah Menikah']\n",
      "Jumlah Anak : [0 2 1 3 4]\n",
      "Jenis Pekerjaan : ['Karyawan' 'Wiraswasta']\n",
      "Pendapatan/Bulan : ['Rp. 2.000.000 - Rp. 5.000.000' 'Rp. 5.000.000 - Rp. 10.000.000'\n",
      " '> RP. 10.000.000']\n",
      "Nama Perumahan : ['Bukit Cibadak Asri' 'Goalpara Hiills' 'Setiabudi Estate'\n",
      " 'Qianna Residence 2' 'Bukit Pinus Banjaran']\n",
      "Jenis Rumah : ['Subsidi' 'Komersil']\n",
      "Tipe Rumah : ['30/60' '36/72' '45/84']\n",
      "Fasilitas Yang Diinginkan : ['CCTV 24 Jam & Security, One Gate System, Jalan Utama Yang Lebar, Jalan Menggunakan Paving Block, Taman Bermain Anak, TK, Masjid'\n",
      " 'CCTV 24 Jam & Security'\n",
      " 'CCTV 24 Jam & Security, One Gate System, Jalan Utama Yang Lebar, Jalan Menggunakan Paving Block, TK'\n",
      " 'CCTV 24 Jam & Security, One Gate System, Jalan Utama Yang Lebar, Jalan Menggunakan Paving Block, Taman Bermain Anak, Masjid, Garden Lounge, Smart Door Lock'\n",
      " 'CCTV 24 Jam & Security, Jalan Utama Yang Lebar, Jalan Menggunakan Paving Block'\n",
      " 'CCTV 24 Jam & Security, Taman Bermain Anak, Masjid'\n",
      " 'CCTV 24 Jam & Security, Jalan Menggunakan Paving Block, TK'\n",
      " 'Jalan Menggunakan Paving Block, TK, Smart Door Lock'\n",
      " 'CCTV 24 Jam & Security, One Gate System, Jalan Utama Yang Lebar'\n",
      " 'Taman Bermain Anak, TK, Masjid'\n",
      " 'CCTV 24 Jam & Security, Jalan Menggunakan Paving Block, Taman Bermain Anak'\n",
      " 'Jalan Utama Yang Lebar, Jalan Menggunakan Paving Block, Taman Bermain Anak'\n",
      " 'CCTV 24 Jam & Security, One Gate System, Jalan Menggunakan Paving Block'\n",
      " 'CCTV 24 Jam & Security, One Gate System, Jalan Utama Yang Lebar, Jalan Menggunakan Paving Block'\n",
      " 'CCTV 24 Jam & Security, Jalan Utama Yang Lebar'\n",
      " 'CCTV 24 Jam & Security, One Gate System, Jalan Utama Yang Lebar, Jalan Menggunakan Paving Block, Garden Lounge, Smart Door Lock'\n",
      " 'Jalan Menggunakan Paving Block, TK'\n",
      " 'CCTV 24 Jam & Security, One Gate System, Masjid'\n",
      " 'Jalan Utama Yang Lebar, Jalan Menggunakan Paving Block, Smart Door Lock'\n",
      " 'CCTV 24 Jam & Security, One Gate System, Garden Lounge'\n",
      " 'TK, Masjid, Smart Door Lock'\n",
      " 'One Gate System, Jalan Utama Yang Lebar, Jalan Menggunakan Paving Block'\n",
      " 'Garden Lounge, Smart Door Lock, Smart Home System'\n",
      " 'CCTV 24 Jam & Security, Jalan Menggunakan Paving Block, Masjid'\n",
      " 'Taman Bermain Anak, Garden Lounge, Smart Door Lock'\n",
      " 'Jalan Menggunakan Paving Block, Taman Bermain Anak, TK'\n",
      " 'TK, Masjid, Garden Lounge'\n",
      " 'Jalan Utama Yang Lebar, Taman Bermain Anak, TK'\n",
      " 'Masjid, Garden Lounge, Smart Door Lock'\n",
      " 'One Gate System, Jalan Utama Yang Lebar, Taman Bermain Anak'\n",
      " 'One Gate System, Jalan Menggunakan Paving Block, TK'\n",
      " 'Jalan Utama Yang Lebar, Jalan Menggunakan Paving Block, TK'\n",
      " 'CCTV 24 Jam & Security, One Gate System, Jalan Utama Yang Lebar, Jalan Menggunakan Paving Block, Smart Door Lock, Smart Home System'\n",
      " 'CCTV 24 Jam & Security, One Gate System, Jalan Utama Yang Lebar, Jalan Menggunakan Paving Block, Taman Bermain Anak, TK, Masjid, Garden Lounge, Smart Door Lock'\n",
      " 'Jalan Utama Yang Lebar, TK, Smart Home System'\n",
      " 'CCTV 24 Jam & Security, Jalan Utama Yang Lebar, TK'\n",
      " 'CCTV 24 Jam & Security, Jalan Utama Yang Lebar, Taman Bermain Anak']\n",
      "Preferensi lingkungan : ['View Pegunungan, Suasana Sejuk Dan Asri, Dekat Dengan Pusat Kota, Dekat Dengan Exit Tol, Dekat Dengan ATM Center, Dekat Dengan Sarana Pendidikan, Dekat Dengan Sarana Kesehatan, Dekat Dengan Sarana Perbelanjaan, Dekat Dengan Tempat Ibadah, Dekat Dengan Tempat Kuliner, Dekat Dengan Tempat Wisata, Dilalui Dengan Kendaraan Umum, Dilalui Dengan SPBU'\n",
      " 'View Pegunungan'\n",
      " 'View Pegunungan, Suasana Sejuk Dan Asri, Dekat Dengan Pusat Kota, Dekat Dengan Exit Tol, Dekat Dengan ATM Center, Dekat Dengan Sarana Pendidikan, Dekat Dengan Sarana Kesehatan, Dekat Dengan Sarana Perbelanjaan, Dekat Dengan Tempat Wisata, Dilalui Dengan SPBU'\n",
      " 'Suasana Sejuk Dan Asri, Dekat Dengan Pusat Kota, Dekat Dengan ATM Center'\n",
      " 'Dekat Dengan ATM Center, Dekat Dengan Sarana Perbelanjaan, Dekat Dengan Tempat Ibadah'\n",
      " 'Dekat Dengan ATM Center, Dekat Dengan Sarana Kesehatan, Dekat Dengan Tempat Kuliner'\n",
      " 'Dekat Dengan Exit Tol, Dekat Dengan Sarana Pendidikan, Dekat Dengan Sarana Perbelanjaan'\n",
      " 'View Pegunungan, Suasana Sejuk Dan Asri, Dekat Dengan Exit Tol'\n",
      " 'Dekat Dengan Tempat Ibadah, Dekat Dengan Tempat Kuliner, Dekat Dengan Tempat Wisata'\n",
      " 'View Pegunungan, Dekat Dengan ATM Center, Dekat Dengan Tempat Ibadah'\n",
      " 'Dekat Dengan Pusat Kota, Dekat Dengan Exit Tol, Dekat Dengan Sarana Perbelanjaan'\n",
      " 'View Pegunungan, Suasana Sejuk Dan Asri, Dekat Dengan Pusat Kota'\n",
      " 'Suasana Sejuk Dan Asri, Dekat Dengan Pusat Kota, Dekat Dengan Exit Tol, Dekat Dengan Sarana Pendidikan, Dekat Dengan Sarana Perbelanjaan, Dekat Dengan Tempat Wisata'\n",
      " 'Dekat Dengan Sarana Pendidikan, Dekat Dengan Sarana Perbelanjaan, Dekat Dengan Tempat Wisata'\n",
      " 'View Pegunungan, Suasana Sejuk Dan Asri, Dekat Dengan Pusat Kota, Dekat Dengan Exit Tol, Dekat Dengan Sarana Pendidikan, Dekat Dengan Sarana Kesehatan, Dekat Dengan Sarana Perbelanjaan, Dekat Dengan Tempat Ibadah'\n",
      " 'View Pegunungan, Suasana Sejuk Dan Asri, Dekat Dengan Pusat Kota, Dekat Dengan ATM Center, Dekat Dengan Sarana Pendidikan, Dekat Dengan Sarana Kesehatan, Dekat Dengan Sarana Perbelanjaan, Dekat Dengan Tempat Wisata, Dilalui Dengan SPBU'\n",
      " 'Dekat Dengan Pusat Kota, Dekat Dengan Exit Tol, Dekat Dengan ATM Center'\n",
      " 'Dekat Dengan Exit Tol, Dekat Dengan Sarana Kesehatan, Dekat Dengan Tempat Kuliner'\n",
      " 'Dekat Dengan Sarana Pendidikan, Dekat Dengan Sarana Perbelanjaan, Dekat Dengan Tempat Ibadah'\n",
      " 'Dekat Dengan Pusat Kota, Dekat Dengan ATM Center, Dekat Dengan Tempat Ibadah'\n",
      " 'View Pegunungan, Suasana Sejuk Dan Asri, Dekat Dengan ATM Center'\n",
      " 'Dekat Dengan Exit Tol, Dekat Dengan ATM Center, Dekat Dengan Sarana Pendidikan'\n",
      " 'Dekat Dengan Sarana Pendidikan, Dekat Dengan Sarana Kesehatan, Dekat Dengan Sarana Perbelanjaan'\n",
      " 'Dekat Dengan Pusat Kota, Dekat Dengan Exit Tol, Dekat Dengan Sarana Pendidikan'\n",
      " 'Dekat Dengan ATM Center, Dekat Dengan Sarana Pendidikan, Dekat Dengan Sarana Kesehatan'\n",
      " 'Dekat Dengan Sarana Kesehatan, Dekat Dengan Sarana Perbelanjaan, Dekat Dengan Tempat Ibadah'\n",
      " 'View Pegunungan, Dekat Dengan Pusat Kota, Dekat Dengan ATM Center'\n",
      " 'Suasana Sejuk Dan Asri, Dekat Dengan Exit Tol, Dekat Dengan Sarana Pendidikan'\n",
      " 'Suasana Sejuk Dan Asri, Dekat Dengan ATM Center, Dekat Dengan Sarana Kesehatan'\n",
      " 'View Pegunungan, Suasana Sejuk Dan Asri, Dekat Dengan Sarana Pendidikan'\n",
      " 'View Pegunungan, Dekat Dengan Pusat Kota, Dekat Dengan Exit Tol'\n",
      " 'Dekat Dengan Exit Tol, Dekat Dengan Sarana Kesehatan, Dekat Dengan Tempat Ibadah'\n",
      " 'Dekat Dengan Sarana Pendidikan, Dekat Dengan Sarana Perbelanjaan, Dekat Dengan Tempat Kuliner'\n",
      " 'Dekat Dengan ATM Center, Dekat Dengan Sarana Kesehatan, Dekat Dengan Sarana Perbelanjaan'\n",
      " 'Suasana Sejuk Dan Asri, Dekat Dengan Sarana Pendidikan, Dekat Dengan Sarana Perbelanjaan'\n",
      " 'Dekat Dengan Pusat Kota, Dekat Dengan ATM Center, Dekat Dengan Sarana Kesehatan'\n",
      " 'View Pegunungan, Suasana Sejuk Dan Asri, Dekat Dengan Pusat Kota, Dekat Dengan Exit Tol, Dekat Dengan Sarana Pendidikan, Dekat Dengan Sarana Kesehatan, Dekat Dengan Sarana Perbelanjaan, Dekat Dengan Tempat Ibadah, Dekat Dengan Tempat Wisata'\n",
      " 'View Pegunungan, Suasana Sejuk Dan Asri, Dekat Dengan Exit Tol, Dekat Dengan ATM Center, Dekat Dengan Sarana Pendidikan, Dekat Dengan Sarana Kesehatan, Dekat Dengan Sarana Perbelanjaan, Dekat Dengan Tempat Ibadah, Dekat Dengan Tempat Kuliner, Dilalui Dengan Kendaraan Umum, Dilalui Dengan SPBU'\n",
      " 'View Pegunungan, Suasana Sejuk Dan Asri, Dekat Dengan Pusat Kota, Dekat Dengan Exit Tol, Dekat Dengan ATM Center, Dekat Dengan Sarana Pendidikan, Dekat Dengan Sarana Kesehatan, Dekat Dengan Sarana Perbelanjaan, Dekat Dengan Tempat Ibadah, Dekat Dengan Tempat Wisata, Dilalui Dengan SPBU'\n",
      " 'Suasana Sejuk Dan Asri, Dekat Dengan Exit Tol, Dekat Dengan ATM Center, Dekat Dengan Sarana Pendidikan, Dekat Dengan Sarana Kesehatan, Dekat Dengan Sarana Perbelanjaan, Dekat Dengan Tempat Ibadah, Dekat Dengan Tempat Kuliner, Dilalui Dengan SPBU'\n",
      " 'Dekat Dengan Exit Tol, Dekat Dengan Sarana Kesehatan, Dilalui Dengan Kendaraan Umum'\n",
      " 'View Pegunungan, Dekat Dengan Exit Tol, Dekat Dengan ATM Center'\n",
      " 'Dekat Dengan ATM Center, Dekat Dengan Sarana Pendidikan, Dekat Dengan Sarana Perbelanjaan'\n",
      " 'View Pegunungan, Dekat Dengan Exit Tol, Dekat Dengan Sarana Pendidikan']\n"
     ]
    }
   ],
   "source": [
    "for col in df.columns:\n",
    "    print(f\"{col} : {df[col].unique()}\")"
   ]
  },
  {
   "cell_type": "code",
   "execution_count": 45,
   "metadata": {},
   "outputs": [
    {
     "data": {
      "text/html": [
       "<div>\n",
       "<style scoped>\n",
       "    .dataframe tbody tr th:only-of-type {\n",
       "        vertical-align: middle;\n",
       "    }\n",
       "\n",
       "    .dataframe tbody tr th {\n",
       "        vertical-align: top;\n",
       "    }\n",
       "\n",
       "    .dataframe thead th {\n",
       "        text-align: right;\n",
       "    }\n",
       "</style>\n",
       "<table border=\"1\" class=\"dataframe\">\n",
       "  <thead>\n",
       "    <tr style=\"text-align: right;\">\n",
       "      <th></th>\n",
       "      <th>Usia</th>\n",
       "      <th>Jumlah Anak</th>\n",
       "    </tr>\n",
       "  </thead>\n",
       "  <tbody>\n",
       "    <tr>\n",
       "      <th>count</th>\n",
       "      <td>272.000000</td>\n",
       "      <td>272.000000</td>\n",
       "    </tr>\n",
       "    <tr>\n",
       "      <th>mean</th>\n",
       "      <td>31.790441</td>\n",
       "      <td>1.003676</td>\n",
       "    </tr>\n",
       "    <tr>\n",
       "      <th>std</th>\n",
       "      <td>2.688677</td>\n",
       "      <td>0.962385</td>\n",
       "    </tr>\n",
       "    <tr>\n",
       "      <th>min</th>\n",
       "      <td>28.000000</td>\n",
       "      <td>0.000000</td>\n",
       "    </tr>\n",
       "    <tr>\n",
       "      <th>25%</th>\n",
       "      <td>30.000000</td>\n",
       "      <td>0.000000</td>\n",
       "    </tr>\n",
       "    <tr>\n",
       "      <th>50%</th>\n",
       "      <td>31.000000</td>\n",
       "      <td>1.000000</td>\n",
       "    </tr>\n",
       "    <tr>\n",
       "      <th>75%</th>\n",
       "      <td>33.000000</td>\n",
       "      <td>2.000000</td>\n",
       "    </tr>\n",
       "    <tr>\n",
       "      <th>max</th>\n",
       "      <td>40.000000</td>\n",
       "      <td>4.000000</td>\n",
       "    </tr>\n",
       "  </tbody>\n",
       "</table>\n",
       "</div>"
      ],
      "text/plain": [
       "             Usia  Jumlah Anak\n",
       "count  272.000000   272.000000\n",
       "mean    31.790441     1.003676\n",
       "std      2.688677     0.962385\n",
       "min     28.000000     0.000000\n",
       "25%     30.000000     0.000000\n",
       "50%     31.000000     1.000000\n",
       "75%     33.000000     2.000000\n",
       "max     40.000000     4.000000"
      ]
     },
     "execution_count": 45,
     "metadata": {},
     "output_type": "execute_result"
    }
   ],
   "source": [
    "df.describe()"
   ]
  },
  {
   "cell_type": "code",
   "execution_count": 46,
   "metadata": {},
   "outputs": [
    {
     "name": "stdout",
     "output_type": "stream",
     "text": [
      "<class 'pandas.core.frame.DataFrame'>\n",
      "RangeIndex: 272 entries, 0 to 271\n",
      "Data columns (total 12 columns):\n",
      " #   Column                     Non-Null Count  Dtype \n",
      "---  ------                     --------------  ----- \n",
      " 0   Timestamp                  272 non-null    object\n",
      " 1   Usia                       272 non-null    int64 \n",
      " 2   Jenis Kelamin              272 non-null    object\n",
      " 3   Status Pernikahan          272 non-null    object\n",
      " 4   Jumlah Anak                272 non-null    int64 \n",
      " 5   Jenis Pekerjaan            272 non-null    object\n",
      " 6   Pendapatan/Bulan           272 non-null    object\n",
      " 7   Nama Perumahan             272 non-null    object\n",
      " 8   Jenis Rumah                272 non-null    object\n",
      " 9   Tipe Rumah                 272 non-null    object\n",
      " 10  Fasilitas Yang Diinginkan  272 non-null    object\n",
      " 11  Preferensi lingkungan      272 non-null    object\n",
      "dtypes: int64(2), object(10)\n",
      "memory usage: 25.6+ KB\n"
     ]
    }
   ],
   "source": [
    "df.info()"
   ]
  },
  {
   "cell_type": "markdown",
   "metadata": {},
   "source": [
    "## Checking Any Null data"
   ]
  },
  {
   "cell_type": "code",
   "execution_count": 47,
   "metadata": {},
   "outputs": [
    {
     "data": {
      "text/html": [
       "<div>\n",
       "<style scoped>\n",
       "    .dataframe tbody tr th:only-of-type {\n",
       "        vertical-align: middle;\n",
       "    }\n",
       "\n",
       "    .dataframe tbody tr th {\n",
       "        vertical-align: top;\n",
       "    }\n",
       "\n",
       "    .dataframe thead th {\n",
       "        text-align: right;\n",
       "    }\n",
       "</style>\n",
       "<table border=\"1\" class=\"dataframe\">\n",
       "  <thead>\n",
       "    <tr style=\"text-align: right;\">\n",
       "      <th></th>\n",
       "      <th>Timestamp</th>\n",
       "      <th>Usia</th>\n",
       "      <th>Jenis Kelamin</th>\n",
       "      <th>Status Pernikahan</th>\n",
       "      <th>Jumlah Anak</th>\n",
       "      <th>Jenis Pekerjaan</th>\n",
       "      <th>Pendapatan/Bulan</th>\n",
       "      <th>Nama Perumahan</th>\n",
       "      <th>Jenis Rumah</th>\n",
       "      <th>Tipe Rumah</th>\n",
       "      <th>Fasilitas Yang Diinginkan</th>\n",
       "      <th>Preferensi lingkungan</th>\n",
       "    </tr>\n",
       "  </thead>\n",
       "  <tbody>\n",
       "  </tbody>\n",
       "</table>\n",
       "</div>"
      ],
      "text/plain": [
       "Empty DataFrame\n",
       "Columns: [Timestamp, Usia, Jenis Kelamin, Status Pernikahan, Jumlah Anak, Jenis Pekerjaan, Pendapatan/Bulan, Nama Perumahan, Jenis Rumah, Tipe Rumah, Fasilitas Yang Diinginkan, Preferensi lingkungan]\n",
       "Index: []"
      ]
     },
     "execution_count": 47,
     "metadata": {},
     "output_type": "execute_result"
    }
   ],
   "source": [
    "df[df.isna().any(axis=1)]"
   ]
  },
  {
   "cell_type": "code",
   "execution_count": 48,
   "metadata": {},
   "outputs": [
    {
     "data": {
      "text/plain": [
       "0"
      ]
     },
     "execution_count": 48,
     "metadata": {},
     "output_type": "execute_result"
    }
   ],
   "source": [
    "df.isnull().sum().sum()"
   ]
  },
  {
   "cell_type": "markdown",
   "metadata": {},
   "source": [
    "## Split data into X (input), y(target)"
   ]
  },
  {
   "cell_type": "code",
   "execution_count": 49,
   "metadata": {},
   "outputs": [],
   "source": [
    "X = df[\n",
    "    [\n",
    "        \"Usia\",\n",
    "        \"Status Pernikahan\",\n",
    "        \"Jumlah Anak\",\n",
    "        \"Pendapatan/Bulan\",\n",
    "        \"Fasilitas Yang Diinginkan\",\n",
    "        \"Preferensi lingkungan\"\n",
    "    ]\n",
    "].copy()\n",
    "y = df[\n",
    "    [   \"Nama Perumahan\",\n",
    "        \"Jenis Rumah\",\n",
    "        \"Tipe Rumah\"\n",
    "    ]\n",
    "].copy()"
   ]
  },
  {
   "cell_type": "code",
   "execution_count": 50,
   "metadata": {},
   "outputs": [
    {
     "data": {
      "text/html": [
       "<div>\n",
       "<style scoped>\n",
       "    .dataframe tbody tr th:only-of-type {\n",
       "        vertical-align: middle;\n",
       "    }\n",
       "\n",
       "    .dataframe tbody tr th {\n",
       "        vertical-align: top;\n",
       "    }\n",
       "\n",
       "    .dataframe thead th {\n",
       "        text-align: right;\n",
       "    }\n",
       "</style>\n",
       "<table border=\"1\" class=\"dataframe\">\n",
       "  <thead>\n",
       "    <tr style=\"text-align: right;\">\n",
       "      <th></th>\n",
       "      <th>Usia</th>\n",
       "      <th>Status Pernikahan</th>\n",
       "      <th>Jumlah Anak</th>\n",
       "      <th>Pendapatan/Bulan</th>\n",
       "      <th>Fasilitas Yang Diinginkan</th>\n",
       "      <th>Preferensi lingkungan</th>\n",
       "    </tr>\n",
       "  </thead>\n",
       "  <tbody>\n",
       "    <tr>\n",
       "      <th>0</th>\n",
       "      <td>32</td>\n",
       "      <td>Lajang</td>\n",
       "      <td>0</td>\n",
       "      <td>Rp. 2.000.000 - Rp. 5.000.000</td>\n",
       "      <td>CCTV 24 Jam &amp; Security, One Gate System, Jalan...</td>\n",
       "      <td>View Pegunungan, Suasana Sejuk Dan Asri, Dekat...</td>\n",
       "    </tr>\n",
       "    <tr>\n",
       "      <th>1</th>\n",
       "      <td>36</td>\n",
       "      <td>Sudah Menikah</td>\n",
       "      <td>2</td>\n",
       "      <td>Rp. 5.000.000 - Rp. 10.000.000</td>\n",
       "      <td>CCTV 24 Jam &amp; Security</td>\n",
       "      <td>View Pegunungan</td>\n",
       "    </tr>\n",
       "    <tr>\n",
       "      <th>2</th>\n",
       "      <td>28</td>\n",
       "      <td>Sudah Menikah</td>\n",
       "      <td>1</td>\n",
       "      <td>Rp. 2.000.000 - Rp. 5.000.000</td>\n",
       "      <td>CCTV 24 Jam &amp; Security, One Gate System, Jalan...</td>\n",
       "      <td>View Pegunungan, Suasana Sejuk Dan Asri, Dekat...</td>\n",
       "    </tr>\n",
       "    <tr>\n",
       "      <th>3</th>\n",
       "      <td>33</td>\n",
       "      <td>Sudah Menikah</td>\n",
       "      <td>2</td>\n",
       "      <td>Rp. 5.000.000 - Rp. 10.000.000</td>\n",
       "      <td>CCTV 24 Jam &amp; Security, One Gate System, Jalan...</td>\n",
       "      <td>View Pegunungan, Suasana Sejuk Dan Asri, Dekat...</td>\n",
       "    </tr>\n",
       "    <tr>\n",
       "      <th>4</th>\n",
       "      <td>29</td>\n",
       "      <td>Lajang</td>\n",
       "      <td>0</td>\n",
       "      <td>Rp. 5.000.000 - Rp. 10.000.000</td>\n",
       "      <td>CCTV 24 Jam &amp; Security, Jalan Utama Yang Lebar...</td>\n",
       "      <td>Suasana Sejuk Dan Asri, Dekat Dengan Pusat Kot...</td>\n",
       "    </tr>\n",
       "  </tbody>\n",
       "</table>\n",
       "</div>"
      ],
      "text/plain": [
       "   Usia Status Pernikahan  Jumlah Anak                Pendapatan/Bulan  \\\n",
       "0    32            Lajang            0   Rp. 2.000.000 - Rp. 5.000.000   \n",
       "1    36     Sudah Menikah            2  Rp. 5.000.000 - Rp. 10.000.000   \n",
       "2    28     Sudah Menikah            1   Rp. 2.000.000 - Rp. 5.000.000   \n",
       "3    33     Sudah Menikah            2  Rp. 5.000.000 - Rp. 10.000.000   \n",
       "4    29            Lajang            0  Rp. 5.000.000 - Rp. 10.000.000   \n",
       "\n",
       "                           Fasilitas Yang Diinginkan  \\\n",
       "0  CCTV 24 Jam & Security, One Gate System, Jalan...   \n",
       "1                             CCTV 24 Jam & Security   \n",
       "2  CCTV 24 Jam & Security, One Gate System, Jalan...   \n",
       "3  CCTV 24 Jam & Security, One Gate System, Jalan...   \n",
       "4  CCTV 24 Jam & Security, Jalan Utama Yang Lebar...   \n",
       "\n",
       "                               Preferensi lingkungan  \n",
       "0  View Pegunungan, Suasana Sejuk Dan Asri, Dekat...  \n",
       "1                                    View Pegunungan  \n",
       "2  View Pegunungan, Suasana Sejuk Dan Asri, Dekat...  \n",
       "3  View Pegunungan, Suasana Sejuk Dan Asri, Dekat...  \n",
       "4  Suasana Sejuk Dan Asri, Dekat Dengan Pusat Kot...  "
      ]
     },
     "execution_count": 50,
     "metadata": {},
     "output_type": "execute_result"
    }
   ],
   "source": [
    "X.head()"
   ]
  },
  {
   "cell_type": "code",
   "execution_count": 51,
   "metadata": {},
   "outputs": [
    {
     "data": {
      "text/html": [
       "<div>\n",
       "<style scoped>\n",
       "    .dataframe tbody tr th:only-of-type {\n",
       "        vertical-align: middle;\n",
       "    }\n",
       "\n",
       "    .dataframe tbody tr th {\n",
       "        vertical-align: top;\n",
       "    }\n",
       "\n",
       "    .dataframe thead th {\n",
       "        text-align: right;\n",
       "    }\n",
       "</style>\n",
       "<table border=\"1\" class=\"dataframe\">\n",
       "  <thead>\n",
       "    <tr style=\"text-align: right;\">\n",
       "      <th></th>\n",
       "      <th>Nama Perumahan</th>\n",
       "      <th>Jenis Rumah</th>\n",
       "      <th>Tipe Rumah</th>\n",
       "    </tr>\n",
       "  </thead>\n",
       "  <tbody>\n",
       "    <tr>\n",
       "      <th>0</th>\n",
       "      <td>Bukit Cibadak Asri</td>\n",
       "      <td>Subsidi</td>\n",
       "      <td>30/60</td>\n",
       "    </tr>\n",
       "    <tr>\n",
       "      <th>1</th>\n",
       "      <td>Bukit Cibadak Asri</td>\n",
       "      <td>Subsidi</td>\n",
       "      <td>30/60</td>\n",
       "    </tr>\n",
       "    <tr>\n",
       "      <th>2</th>\n",
       "      <td>Goalpara Hiills</td>\n",
       "      <td>Subsidi</td>\n",
       "      <td>30/60</td>\n",
       "    </tr>\n",
       "    <tr>\n",
       "      <th>3</th>\n",
       "      <td>Setiabudi Estate</td>\n",
       "      <td>Komersil</td>\n",
       "      <td>36/72</td>\n",
       "    </tr>\n",
       "    <tr>\n",
       "      <th>4</th>\n",
       "      <td>Qianna Residence 2</td>\n",
       "      <td>Komersil</td>\n",
       "      <td>30/60</td>\n",
       "    </tr>\n",
       "  </tbody>\n",
       "</table>\n",
       "</div>"
      ],
      "text/plain": [
       "       Nama Perumahan Jenis Rumah Tipe Rumah\n",
       "0  Bukit Cibadak Asri     Subsidi      30/60\n",
       "1  Bukit Cibadak Asri     Subsidi      30/60\n",
       "2     Goalpara Hiills     Subsidi      30/60\n",
       "3    Setiabudi Estate    Komersil      36/72\n",
       "4  Qianna Residence 2    Komersil      30/60"
      ]
     },
     "execution_count": 51,
     "metadata": {},
     "output_type": "execute_result"
    }
   ],
   "source": [
    "y.head()"
   ]
  },
  {
   "cell_type": "markdown",
   "metadata": {},
   "source": [
    "## Apply Encoder into train data"
   ]
  },
  {
   "cell_type": "code",
   "execution_count": 52,
   "metadata": {},
   "outputs": [],
   "source": [
    "from sklearn.preprocessing import LabelEncoder, StandardScaler"
   ]
  },
  {
   "cell_type": "code",
   "execution_count": 53,
   "metadata": {},
   "outputs": [],
   "source": [
    "# Setup Encoder for Label Column\n",
    "status_pernikahan_encoder = LabelEncoder()\n",
    "pendapatan_bulan_encoder = LabelEncoder()\n",
    "\n",
    "\n",
    "X['Status Pernikahan'] = status_pernikahan_encoder.fit_transform(X['Status Pernikahan'])\n",
    "X['Pendapatan/Bulan'] = pendapatan_bulan_encoder.fit_transform(X['Pendapatan/Bulan'])"
   ]
  },
  {
   "cell_type": "code",
   "execution_count": 54,
   "metadata": {},
   "outputs": [
    {
     "name": "stdout",
     "output_type": "stream",
     "text": [
      "{0: 'Lajang', 1: 'Sudah Menikah'}\n",
      "{1: 'Rp. 2.000.000 - Rp. 5.000.000', 2: 'Rp. 5.000.000 - Rp. 10.000.000', 0: '> RP. 10.000.000'}\n"
     ]
    }
   ],
   "source": [
    "# Check Mapping\n",
    "print(dict(zip(X['Status Pernikahan'], status_pernikahan_encoder.inverse_transform(X['Status Pernikahan']))))\n",
    "print(dict(zip(X['Pendapatan/Bulan'], pendapatan_bulan_encoder.inverse_transform(X['Pendapatan/Bulan']))))"
   ]
  },
  {
   "cell_type": "markdown",
   "metadata": {},
   "source": [
    "### Process the Fasilitas Kolom and Lingkungan Kolom"
   ]
  },
  {
   "cell_type": "code",
   "execution_count": 55,
   "metadata": {},
   "outputs": [],
   "source": [
    "# Get unique Facilities\n",
    "unique_fasilitas = set([fasilitas for sublist in X['Fasilitas Yang Diinginkan'].str.split(', ') for fasilitas in sublist])\n",
    "\n",
    "# Perform like One-Hot Encoding\n",
    "for facility in unique_fasilitas:\n",
    "    X[facility] = X['Fasilitas Yang Diinginkan'].str.contains(facility).astype(int)\n",
    "\n",
    "# Remove old columns\n",
    "X.drop('Fasilitas Yang Diinginkan', axis=1, inplace=True)"
   ]
  },
  {
   "cell_type": "code",
   "execution_count": 59,
   "metadata": {},
   "outputs": [
    {
     "data": {
      "text/plain": [
       "{'CCTV 24 Jam & Security',\n",
       " 'Garden Lounge',\n",
       " 'Jalan Menggunakan Paving Block',\n",
       " 'Jalan Utama Yang Lebar',\n",
       " 'Masjid',\n",
       " 'One Gate System',\n",
       " 'Smart Door Lock',\n",
       " 'Smart Home System',\n",
       " 'TK',\n",
       " 'Taman Bermain Anak'}"
      ]
     },
     "execution_count": 59,
     "metadata": {},
     "output_type": "execute_result"
    }
   ],
   "source": [
    "unique_fasilitas"
   ]
  },
  {
   "cell_type": "code",
   "execution_count": 56,
   "metadata": {},
   "outputs": [],
   "source": [
    "# Get unique Lingkungan Preferensi\n",
    "unique_lingkungan = set([lingkungan for sublist in X['Preferensi lingkungan'].str.split(', ') for lingkungan in sublist])\n",
    "\n",
    "# Perform like One-Hot Encoding\n",
    "for lingkungan in unique_lingkungan:\n",
    "    X[lingkungan] = X['Preferensi lingkungan'].str.contains(lingkungan).astype(int)\n",
    "\n",
    "# Remove old columns\n",
    "X.drop('Preferensi lingkungan', axis=1, inplace=True)"
   ]
  },
  {
   "cell_type": "code",
   "execution_count": 60,
   "metadata": {},
   "outputs": [
    {
     "data": {
      "text/plain": [
       "{'Dekat Dengan ATM Center',\n",
       " 'Dekat Dengan Exit Tol',\n",
       " 'Dekat Dengan Pusat Kota',\n",
       " 'Dekat Dengan Sarana Kesehatan',\n",
       " 'Dekat Dengan Sarana Pendidikan',\n",
       " 'Dekat Dengan Sarana Perbelanjaan',\n",
       " 'Dekat Dengan Tempat Ibadah',\n",
       " 'Dekat Dengan Tempat Kuliner',\n",
       " 'Dekat Dengan Tempat Wisata',\n",
       " 'Dilalui Dengan Kendaraan Umum',\n",
       " 'Dilalui Dengan SPBU',\n",
       " 'Suasana Sejuk Dan Asri',\n",
       " 'View Pegunungan'}"
      ]
     },
     "execution_count": 60,
     "metadata": {},
     "output_type": "execute_result"
    }
   ],
   "source": [
    "unique_lingkungan"
   ]
  },
  {
   "cell_type": "code",
   "execution_count": 57,
   "metadata": {},
   "outputs": [],
   "source": [
    "# Transform Usia into same range value\n",
    "usia_scaler = StandardScaler()\n",
    "X['Usia'] = usia_scaler.fit_transform(X[['Usia']])"
   ]
  },
  {
   "cell_type": "code",
   "execution_count": 58,
   "metadata": {},
   "outputs": [
    {
     "data": {
      "text/html": [
       "<div>\n",
       "<style scoped>\n",
       "    .dataframe tbody tr th:only-of-type {\n",
       "        vertical-align: middle;\n",
       "    }\n",
       "\n",
       "    .dataframe tbody tr th {\n",
       "        vertical-align: top;\n",
       "    }\n",
       "\n",
       "    .dataframe thead th {\n",
       "        text-align: right;\n",
       "    }\n",
       "</style>\n",
       "<table border=\"1\" class=\"dataframe\">\n",
       "  <thead>\n",
       "    <tr style=\"text-align: right;\">\n",
       "      <th></th>\n",
       "      <th>Usia</th>\n",
       "      <th>Status Pernikahan</th>\n",
       "      <th>Jumlah Anak</th>\n",
       "      <th>Pendapatan/Bulan</th>\n",
       "      <th>Jalan Menggunakan Paving Block</th>\n",
       "      <th>One Gate System</th>\n",
       "      <th>CCTV 24 Jam &amp; Security</th>\n",
       "      <th>Masjid</th>\n",
       "      <th>TK</th>\n",
       "      <th>Smart Door Lock</th>\n",
       "      <th>...</th>\n",
       "      <th>Dekat Dengan Tempat Kuliner</th>\n",
       "      <th>Dekat Dengan ATM Center</th>\n",
       "      <th>Dekat Dengan Exit Tol</th>\n",
       "      <th>Dekat Dengan Sarana Kesehatan</th>\n",
       "      <th>Dilalui Dengan Kendaraan Umum</th>\n",
       "      <th>Dekat Dengan Tempat Wisata</th>\n",
       "      <th>Dekat Dengan Sarana Pendidikan</th>\n",
       "      <th>View Pegunungan</th>\n",
       "      <th>Dekat Dengan Pusat Kota</th>\n",
       "      <th>Dilalui Dengan SPBU</th>\n",
       "    </tr>\n",
       "  </thead>\n",
       "  <tbody>\n",
       "    <tr>\n",
       "      <th>0</th>\n",
       "      <td>0.078085</td>\n",
       "      <td>0</td>\n",
       "      <td>0</td>\n",
       "      <td>1</td>\n",
       "      <td>1</td>\n",
       "      <td>1</td>\n",
       "      <td>1</td>\n",
       "      <td>1</td>\n",
       "      <td>1</td>\n",
       "      <td>0</td>\n",
       "      <td>...</td>\n",
       "      <td>1</td>\n",
       "      <td>1</td>\n",
       "      <td>1</td>\n",
       "      <td>1</td>\n",
       "      <td>1</td>\n",
       "      <td>1</td>\n",
       "      <td>1</td>\n",
       "      <td>1</td>\n",
       "      <td>1</td>\n",
       "      <td>1</td>\n",
       "    </tr>\n",
       "    <tr>\n",
       "      <th>1</th>\n",
       "      <td>1.568548</td>\n",
       "      <td>1</td>\n",
       "      <td>2</td>\n",
       "      <td>2</td>\n",
       "      <td>0</td>\n",
       "      <td>0</td>\n",
       "      <td>1</td>\n",
       "      <td>0</td>\n",
       "      <td>0</td>\n",
       "      <td>0</td>\n",
       "      <td>...</td>\n",
       "      <td>0</td>\n",
       "      <td>0</td>\n",
       "      <td>0</td>\n",
       "      <td>0</td>\n",
       "      <td>0</td>\n",
       "      <td>0</td>\n",
       "      <td>0</td>\n",
       "      <td>1</td>\n",
       "      <td>0</td>\n",
       "      <td>0</td>\n",
       "    </tr>\n",
       "    <tr>\n",
       "      <th>2</th>\n",
       "      <td>-1.412378</td>\n",
       "      <td>1</td>\n",
       "      <td>1</td>\n",
       "      <td>1</td>\n",
       "      <td>1</td>\n",
       "      <td>1</td>\n",
       "      <td>1</td>\n",
       "      <td>0</td>\n",
       "      <td>1</td>\n",
       "      <td>0</td>\n",
       "      <td>...</td>\n",
       "      <td>0</td>\n",
       "      <td>1</td>\n",
       "      <td>1</td>\n",
       "      <td>1</td>\n",
       "      <td>0</td>\n",
       "      <td>1</td>\n",
       "      <td>1</td>\n",
       "      <td>1</td>\n",
       "      <td>1</td>\n",
       "      <td>1</td>\n",
       "    </tr>\n",
       "    <tr>\n",
       "      <th>3</th>\n",
       "      <td>0.450701</td>\n",
       "      <td>1</td>\n",
       "      <td>2</td>\n",
       "      <td>2</td>\n",
       "      <td>1</td>\n",
       "      <td>1</td>\n",
       "      <td>1</td>\n",
       "      <td>1</td>\n",
       "      <td>0</td>\n",
       "      <td>1</td>\n",
       "      <td>...</td>\n",
       "      <td>1</td>\n",
       "      <td>1</td>\n",
       "      <td>1</td>\n",
       "      <td>1</td>\n",
       "      <td>1</td>\n",
       "      <td>1</td>\n",
       "      <td>1</td>\n",
       "      <td>1</td>\n",
       "      <td>1</td>\n",
       "      <td>1</td>\n",
       "    </tr>\n",
       "    <tr>\n",
       "      <th>4</th>\n",
       "      <td>-1.039762</td>\n",
       "      <td>0</td>\n",
       "      <td>0</td>\n",
       "      <td>2</td>\n",
       "      <td>1</td>\n",
       "      <td>0</td>\n",
       "      <td>1</td>\n",
       "      <td>0</td>\n",
       "      <td>0</td>\n",
       "      <td>0</td>\n",
       "      <td>...</td>\n",
       "      <td>0</td>\n",
       "      <td>1</td>\n",
       "      <td>0</td>\n",
       "      <td>0</td>\n",
       "      <td>0</td>\n",
       "      <td>0</td>\n",
       "      <td>0</td>\n",
       "      <td>0</td>\n",
       "      <td>1</td>\n",
       "      <td>0</td>\n",
       "    </tr>\n",
       "  </tbody>\n",
       "</table>\n",
       "<p>5 rows × 27 columns</p>\n",
       "</div>"
      ],
      "text/plain": [
       "       Usia  Status Pernikahan  Jumlah Anak  Pendapatan/Bulan  \\\n",
       "0  0.078085                  0            0                 1   \n",
       "1  1.568548                  1            2                 2   \n",
       "2 -1.412378                  1            1                 1   \n",
       "3  0.450701                  1            2                 2   \n",
       "4 -1.039762                  0            0                 2   \n",
       "\n",
       "   Jalan Menggunakan Paving Block  One Gate System  CCTV 24 Jam & Security  \\\n",
       "0                               1                1                       1   \n",
       "1                               0                0                       1   \n",
       "2                               1                1                       1   \n",
       "3                               1                1                       1   \n",
       "4                               1                0                       1   \n",
       "\n",
       "   Masjid  TK  Smart Door Lock  ...  Dekat Dengan Tempat Kuliner  \\\n",
       "0       1   1                0  ...                            1   \n",
       "1       0   0                0  ...                            0   \n",
       "2       0   1                0  ...                            0   \n",
       "3       1   0                1  ...                            1   \n",
       "4       0   0                0  ...                            0   \n",
       "\n",
       "   Dekat Dengan ATM Center  Dekat Dengan Exit Tol  \\\n",
       "0                        1                      1   \n",
       "1                        0                      0   \n",
       "2                        1                      1   \n",
       "3                        1                      1   \n",
       "4                        1                      0   \n",
       "\n",
       "   Dekat Dengan Sarana Kesehatan  Dilalui Dengan Kendaraan Umum  \\\n",
       "0                              1                              1   \n",
       "1                              0                              0   \n",
       "2                              1                              0   \n",
       "3                              1                              1   \n",
       "4                              0                              0   \n",
       "\n",
       "   Dekat Dengan Tempat Wisata  Dekat Dengan Sarana Pendidikan  \\\n",
       "0                           1                               1   \n",
       "1                           0                               0   \n",
       "2                           1                               1   \n",
       "3                           1                               1   \n",
       "4                           0                               0   \n",
       "\n",
       "   View Pegunungan  Dekat Dengan Pusat Kota  Dilalui Dengan SPBU  \n",
       "0                1                        1                    1  \n",
       "1                1                        0                    0  \n",
       "2                1                        1                    1  \n",
       "3                1                        1                    1  \n",
       "4                0                        1                    0  \n",
       "\n",
       "[5 rows x 27 columns]"
      ]
     },
     "execution_count": 58,
     "metadata": {},
     "output_type": "execute_result"
    }
   ],
   "source": [
    "X.head()"
   ]
  },
  {
   "cell_type": "code",
   "execution_count": 61,
   "metadata": {},
   "outputs": [],
   "source": [
    "# Save Processed data\n",
    "\n",
    "X.to_csv('../data/processed/Input.csv', index=False)\n",
    "y.to_csv('../data/processed/Target.csv', index=False)"
   ]
  },
  {
   "cell_type": "markdown",
   "metadata": {},
   "source": [
    "## Split data into Train Test Data"
   ]
  },
  {
   "cell_type": "code",
   "execution_count": 26,
   "metadata": {},
   "outputs": [],
   "source": [
    "from sklearn.model_selection import train_test_split\n",
    "\n",
    "X_train, X_test, y_train, y_test = train_test_split(X, y, test_size=0.2)"
   ]
  },
  {
   "cell_type": "code",
   "execution_count": 27,
   "metadata": {},
   "outputs": [
    {
     "data": {
      "text/plain": [
       "((217, 27), (55, 27), (217, 3), (55, 3))"
      ]
     },
     "execution_count": 27,
     "metadata": {},
     "output_type": "execute_result"
    }
   ],
   "source": [
    "X_train.shape, X_test.shape, y_train.shape, y_test.shape"
   ]
  },
  {
   "cell_type": "markdown",
   "metadata": {},
   "source": [
    "# Create Model and Training"
   ]
  },
  {
   "cell_type": "code",
   "execution_count": 28,
   "metadata": {},
   "outputs": [],
   "source": [
    "from sklearn.ensemble import RandomForestClassifier\n",
    "from sklearn.metrics import accuracy_score, confusion_matrix"
   ]
  },
  {
   "cell_type": "code",
   "execution_count": 29,
   "metadata": {},
   "outputs": [
    {
     "data": {
      "text/html": [
       "<style>#sk-container-id-1 {color: black;background-color: white;}#sk-container-id-1 pre{padding: 0;}#sk-container-id-1 div.sk-toggleable {background-color: white;}#sk-container-id-1 label.sk-toggleable__label {cursor: pointer;display: block;width: 100%;margin-bottom: 0;padding: 0.3em;box-sizing: border-box;text-align: center;}#sk-container-id-1 label.sk-toggleable__label-arrow:before {content: \"▸\";float: left;margin-right: 0.25em;color: #696969;}#sk-container-id-1 label.sk-toggleable__label-arrow:hover:before {color: black;}#sk-container-id-1 div.sk-estimator:hover label.sk-toggleable__label-arrow:before {color: black;}#sk-container-id-1 div.sk-toggleable__content {max-height: 0;max-width: 0;overflow: hidden;text-align: left;background-color: #f0f8ff;}#sk-container-id-1 div.sk-toggleable__content pre {margin: 0.2em;color: black;border-radius: 0.25em;background-color: #f0f8ff;}#sk-container-id-1 input.sk-toggleable__control:checked~div.sk-toggleable__content {max-height: 200px;max-width: 100%;overflow: auto;}#sk-container-id-1 input.sk-toggleable__control:checked~label.sk-toggleable__label-arrow:before {content: \"▾\";}#sk-container-id-1 div.sk-estimator input.sk-toggleable__control:checked~label.sk-toggleable__label {background-color: #d4ebff;}#sk-container-id-1 div.sk-label input.sk-toggleable__control:checked~label.sk-toggleable__label {background-color: #d4ebff;}#sk-container-id-1 input.sk-hidden--visually {border: 0;clip: rect(1px 1px 1px 1px);clip: rect(1px, 1px, 1px, 1px);height: 1px;margin: -1px;overflow: hidden;padding: 0;position: absolute;width: 1px;}#sk-container-id-1 div.sk-estimator {font-family: monospace;background-color: #f0f8ff;border: 1px dotted black;border-radius: 0.25em;box-sizing: border-box;margin-bottom: 0.5em;}#sk-container-id-1 div.sk-estimator:hover {background-color: #d4ebff;}#sk-container-id-1 div.sk-parallel-item::after {content: \"\";width: 100%;border-bottom: 1px solid gray;flex-grow: 1;}#sk-container-id-1 div.sk-label:hover label.sk-toggleable__label {background-color: #d4ebff;}#sk-container-id-1 div.sk-serial::before {content: \"\";position: absolute;border-left: 1px solid gray;box-sizing: border-box;top: 0;bottom: 0;left: 50%;z-index: 0;}#sk-container-id-1 div.sk-serial {display: flex;flex-direction: column;align-items: center;background-color: white;padding-right: 0.2em;padding-left: 0.2em;position: relative;}#sk-container-id-1 div.sk-item {position: relative;z-index: 1;}#sk-container-id-1 div.sk-parallel {display: flex;align-items: stretch;justify-content: center;background-color: white;position: relative;}#sk-container-id-1 div.sk-item::before, #sk-container-id-1 div.sk-parallel-item::before {content: \"\";position: absolute;border-left: 1px solid gray;box-sizing: border-box;top: 0;bottom: 0;left: 50%;z-index: -1;}#sk-container-id-1 div.sk-parallel-item {display: flex;flex-direction: column;z-index: 1;position: relative;background-color: white;}#sk-container-id-1 div.sk-parallel-item:first-child::after {align-self: flex-end;width: 50%;}#sk-container-id-1 div.sk-parallel-item:last-child::after {align-self: flex-start;width: 50%;}#sk-container-id-1 div.sk-parallel-item:only-child::after {width: 0;}#sk-container-id-1 div.sk-dashed-wrapped {border: 1px dashed gray;margin: 0 0.4em 0.5em 0.4em;box-sizing: border-box;padding-bottom: 0.4em;background-color: white;}#sk-container-id-1 div.sk-label label {font-family: monospace;font-weight: bold;display: inline-block;line-height: 1.2em;}#sk-container-id-1 div.sk-label-container {text-align: center;}#sk-container-id-1 div.sk-container {/* jupyter's `normalize.less` sets `[hidden] { display: none; }` but bootstrap.min.css set `[hidden] { display: none !important; }` so we also need the `!important` here to be able to override the default hidden behavior on the sphinx rendered scikit-learn.org. See: https://github.com/scikit-learn/scikit-learn/issues/21755 */display: inline-block !important;position: relative;}#sk-container-id-1 div.sk-text-repr-fallback {display: none;}</style><div id=\"sk-container-id-1\" class=\"sk-top-container\"><div class=\"sk-text-repr-fallback\"><pre>RandomForestClassifier()</pre><b>In a Jupyter environment, please rerun this cell to show the HTML representation or trust the notebook. <br />On GitHub, the HTML representation is unable to render, please try loading this page with nbviewer.org.</b></div><div class=\"sk-container\" hidden><div class=\"sk-item\"><div class=\"sk-estimator sk-toggleable\"><input class=\"sk-toggleable__control sk-hidden--visually\" id=\"sk-estimator-id-1\" type=\"checkbox\" checked><label for=\"sk-estimator-id-1\" class=\"sk-toggleable__label sk-toggleable__label-arrow\">RandomForestClassifier</label><div class=\"sk-toggleable__content\"><pre>RandomForestClassifier()</pre></div></div></div></div></div>"
      ],
      "text/plain": [
       "RandomForestClassifier()"
      ]
     },
     "execution_count": 29,
     "metadata": {},
     "output_type": "execute_result"
    }
   ],
   "source": [
    "model = RandomForestClassifier()\n",
    "model.fit(X_train, y_train)"
   ]
  },
  {
   "cell_type": "code",
   "execution_count": 30,
   "metadata": {},
   "outputs": [],
   "source": [
    "y_pred = model.predict(X_test)"
   ]
  },
  {
   "cell_type": "markdown",
   "metadata": {},
   "source": [
    "### Sanity Check"
   ]
  },
  {
   "cell_type": "code",
   "execution_count": 31,
   "metadata": {},
   "outputs": [
    {
     "data": {
      "text/html": [
       "<div>\n",
       "<style scoped>\n",
       "    .dataframe tbody tr th:only-of-type {\n",
       "        vertical-align: middle;\n",
       "    }\n",
       "\n",
       "    .dataframe tbody tr th {\n",
       "        vertical-align: top;\n",
       "    }\n",
       "\n",
       "    .dataframe thead th {\n",
       "        text-align: right;\n",
       "    }\n",
       "</style>\n",
       "<table border=\"1\" class=\"dataframe\">\n",
       "  <thead>\n",
       "    <tr style=\"text-align: right;\">\n",
       "      <th></th>\n",
       "      <th>Nama Perumahan</th>\n",
       "      <th>Jenis Rumah</th>\n",
       "      <th>Tipe Rumah</th>\n",
       "    </tr>\n",
       "  </thead>\n",
       "  <tbody>\n",
       "    <tr>\n",
       "      <th>85</th>\n",
       "      <td>Goalpara Hiills</td>\n",
       "      <td>Subsidi</td>\n",
       "      <td>30/60</td>\n",
       "    </tr>\n",
       "    <tr>\n",
       "      <th>94</th>\n",
       "      <td>Goalpara Hiills</td>\n",
       "      <td>Subsidi</td>\n",
       "      <td>30/60</td>\n",
       "    </tr>\n",
       "    <tr>\n",
       "      <th>95</th>\n",
       "      <td>Goalpara Hiills</td>\n",
       "      <td>Subsidi</td>\n",
       "      <td>30/60</td>\n",
       "    </tr>\n",
       "    <tr>\n",
       "      <th>73</th>\n",
       "      <td>Qianna Residence 2</td>\n",
       "      <td>Komersil</td>\n",
       "      <td>30/60</td>\n",
       "    </tr>\n",
       "    <tr>\n",
       "      <th>90</th>\n",
       "      <td>Goalpara Hiills</td>\n",
       "      <td>Subsidi</td>\n",
       "      <td>30/60</td>\n",
       "    </tr>\n",
       "    <tr>\n",
       "      <th>48</th>\n",
       "      <td>Qianna Residence 2</td>\n",
       "      <td>Komersil</td>\n",
       "      <td>30/60</td>\n",
       "    </tr>\n",
       "    <tr>\n",
       "      <th>236</th>\n",
       "      <td>Bukit Pinus Banjaran</td>\n",
       "      <td>Subsidi</td>\n",
       "      <td>30/60</td>\n",
       "    </tr>\n",
       "    <tr>\n",
       "      <th>232</th>\n",
       "      <td>Bukit Pinus Banjaran</td>\n",
       "      <td>Subsidi</td>\n",
       "      <td>30/60</td>\n",
       "    </tr>\n",
       "    <tr>\n",
       "      <th>212</th>\n",
       "      <td>Bukit Cibadak Asri</td>\n",
       "      <td>Subsidi</td>\n",
       "      <td>30/60</td>\n",
       "    </tr>\n",
       "    <tr>\n",
       "      <th>6</th>\n",
       "      <td>Qianna Residence 2</td>\n",
       "      <td>Komersil</td>\n",
       "      <td>30/60</td>\n",
       "    </tr>\n",
       "  </tbody>\n",
       "</table>\n",
       "</div>"
      ],
      "text/plain": [
       "           Nama Perumahan Jenis Rumah Tipe Rumah\n",
       "85        Goalpara Hiills     Subsidi      30/60\n",
       "94        Goalpara Hiills     Subsidi      30/60\n",
       "95        Goalpara Hiills     Subsidi      30/60\n",
       "73     Qianna Residence 2    Komersil      30/60\n",
       "90        Goalpara Hiills     Subsidi      30/60\n",
       "48     Qianna Residence 2    Komersil      30/60\n",
       "236  Bukit Pinus Banjaran     Subsidi      30/60\n",
       "232  Bukit Pinus Banjaran     Subsidi      30/60\n",
       "212    Bukit Cibadak Asri     Subsidi      30/60\n",
       "6      Qianna Residence 2    Komersil      30/60"
      ]
     },
     "execution_count": 31,
     "metadata": {},
     "output_type": "execute_result"
    }
   ],
   "source": [
    "y_test[:10]"
   ]
  },
  {
   "cell_type": "code",
   "execution_count": 32,
   "metadata": {},
   "outputs": [
    {
     "data": {
      "text/plain": [
       "array([['Goalpara Hiills', 'Subsidi', '30/60'],\n",
       "       ['Goalpara Hiills', 'Subsidi', '30/60'],\n",
       "       ['Goalpara Hiills', 'Subsidi', '30/60'],\n",
       "       ['Qianna Residence 2', 'Komersil', '36/72'],\n",
       "       ['Goalpara Hiills', 'Subsidi', '30/60'],\n",
       "       ['Qianna Residence 2', 'Komersil', '30/60'],\n",
       "       ['Bukit Pinus Banjaran', 'Subsidi', '30/60'],\n",
       "       ['Bukit Pinus Banjaran', 'Subsidi', '30/60'],\n",
       "       ['Bukit Cibadak Asri', 'Subsidi', '30/60'],\n",
       "       ['Qianna Residence 2', 'Komersil', '30/60']], dtype=object)"
      ]
     },
     "execution_count": 32,
     "metadata": {},
     "output_type": "execute_result"
    }
   ],
   "source": [
    "y_pred[:10]"
   ]
  },
  {
   "cell_type": "markdown",
   "metadata": {},
   "source": [
    "## Evaluate"
   ]
  },
  {
   "cell_type": "code",
   "execution_count": 33,
   "metadata": {},
   "outputs": [
    {
     "name": "stdout",
     "output_type": "stream",
     "text": [
      "Accuracy for output Nama Perumahan: 0.85%\n",
      "Accuracy for output Jenis Rumah: 0.93%\n",
      "Accuracy for output Tipe Rumah: 0.89%\n"
     ]
    }
   ],
   "source": [
    "column_predicted = {1: \"Nama Perumahan\", 2: \"Jenis Rumah\", 3: \"Tipe Rumah\"}\n",
    "\n",
    "# Compute accuracy for each output separately\n",
    "for i in range(y_test.shape[1]):\n",
    "    accuracy = accuracy_score(y_test.iloc[:, i], y_pred[:, i])\n",
    "    print(f\"Accuracy for output {column_predicted[i+1]}: {accuracy:2f}%\")"
   ]
  },
  {
   "cell_type": "code",
   "execution_count": 34,
   "metadata": {},
   "outputs": [
    {
     "name": "stdout",
     "output_type": "stream",
     "text": [
      "Confusion Matrix for output 1:\n",
      "[[ 8  0  0  3  0]\n",
      " [ 0 10  0  3  0]\n",
      " [ 0  0 15  0  0]\n",
      " [ 0  0  0 12  0]\n",
      " [ 0  0  0  2  2]]\n",
      "Confusion Matrix for output 2:\n",
      "[[15  1]\n",
      " [ 3 36]]\n",
      "Confusion Matrix for output 3:\n",
      "[[43  4  0]\n",
      " [ 2  5  0]\n",
      " [ 0  0  1]]\n"
     ]
    }
   ],
   "source": [
    "# Compute confusion matrix for each output separately\n",
    "for i in range(y_test.shape[1]):\n",
    "    conf_matrix = confusion_matrix(y_test.iloc[:, i], y_pred[:, i])\n",
    "    print(f\"Confusion Matrix for output {i+1}:\")\n",
    "    print(conf_matrix)"
   ]
  },
  {
   "cell_type": "markdown",
   "metadata": {},
   "source": [
    "# Save the Model"
   ]
  },
  {
   "cell_type": "code",
   "execution_count": null,
   "metadata": {},
   "outputs": [],
   "source": [
    "import pickle"
   ]
  },
  {
   "cell_type": "code",
   "execution_count": 35,
   "metadata": {},
   "outputs": [],
   "source": [
    "with open('../models/model.pkl', 'wb') as f:\n",
    "    pickle.dump(model, f)"
   ]
  },
  {
   "cell_type": "markdown",
   "metadata": {},
   "source": [
    "## Save the Encoder"
   ]
  },
  {
   "cell_type": "code",
   "execution_count": 36,
   "metadata": {},
   "outputs": [],
   "source": [
    "with open('../models/status_pernikahan_encoder.pkl', 'wb') as f:\n",
    "    pickle.dump(status_pernikahan_encoder, f)\n",
    "    \n",
    "with open('../models/pendapatan_bulan_encoder.pkl', 'wb') as f:\n",
    "    pickle.dump(pendapatan_bulan_encoder, f)\n",
    "\n",
    "with open('../models/usia_scaler.pkl', 'wb') as f:\n",
    "    pickle.dump(usia_scaler, f)"
   ]
  }
 ],
 "metadata": {
  "kernelspec": {
   "display_name": "base",
   "language": "python",
   "name": "python3"
  },
  "language_info": {
   "codemirror_mode": {
    "name": "ipython",
    "version": 3
   },
   "file_extension": ".py",
   "mimetype": "text/x-python",
   "name": "python",
   "nbconvert_exporter": "python",
   "pygments_lexer": "ipython3",
   "version": "3.9.0"
  }
 },
 "nbformat": 4,
 "nbformat_minor": 2
}
